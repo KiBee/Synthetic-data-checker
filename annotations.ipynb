{
 "cells": [
  {
   "cell_type": "code",
   "execution_count": 1,
   "metadata": {
    "ExecuteTime": {
     "end_time": "2021-06-16T15:09:51.807680Z",
     "start_time": "2021-06-16T15:09:48.400733Z"
    }
   },
   "outputs": [],
   "source": [
    "import matplotlib.pyplot as plt\n",
    "import pandas as pd\n",
    "import numpy as np\n",
    "import os\n",
    "import cv2\n",
    "\n",
    "from IPython.display import clear_output\n",
    "from tqdm.notebook import tqdm\n",
    "\n",
    "tqdm.pandas()"
   ]
  },
  {
   "cell_type": "code",
   "execution_count": 2,
   "metadata": {
    "ExecuteTime": {
     "end_time": "2021-06-16T15:09:51.854691Z",
     "start_time": "2021-06-16T15:09:51.842694Z"
    }
   },
   "outputs": [],
   "source": [
    "def get_box(file, obj_path):\n",
    "    y = cv2.imread(obj_path + file, cv2.IMREAD_GRAYSCALE)\n",
    "    shl0 = np.nonzero(np.sum(y,axis=0))[0]\n",
    "    shl1 = np.nonzero(np.sum(y,axis=1))[0]\n",
    "    xmin, xmax = shl0[0], shl0[-1]\n",
    "    ymin,ymax  = shl1[0], shl1[-1]\n",
    "    height, widht = y.shape\n",
    "    res = [file, xmin, xmax, ymin, ymax, widht, height]\n",
    "    return res\n",
    "    "
   ]
  },
  {
   "cell_type": "code",
   "execution_count": 10,
   "metadata": {
    "ExecuteTime": {
     "end_time": "2021-06-16T15:31:35.588079Z",
     "start_time": "2021-06-16T15:30:36.324753Z"
    }
   },
   "outputs": [
    {
     "data": {
      "application/vnd.jupyter.widget-view+json": {
       "model_id": "effa2b90f93648e285aeb2920499bfc4",
       "version_major": 2,
       "version_minor": 0
      },
      "text/plain": [
       "  0%|          | 0/12000 [00:00<?, ?it/s]"
      ]
     },
     "metadata": {},
     "output_type": "display_data"
    },
    {
     "data": {
      "application/vnd.jupyter.widget-view+json": {
       "model_id": "3a91882d2e364b90b976720cc87f43f4",
       "version_major": 2,
       "version_minor": 0
      },
      "text/plain": [
       "  0%|          | 0/12000 [00:00<?, ?it/s]"
      ]
     },
     "metadata": {},
     "output_type": "display_data"
    },
    {
     "data": {
      "application/vnd.jupyter.widget-view+json": {
       "model_id": "f1efd133b9f54796b03b19e563fbe748",
       "version_major": 2,
       "version_minor": 0
      },
      "text/plain": [
       "  0%|          | 0/12000 [00:00<?, ?it/s]"
      ]
     },
     "metadata": {},
     "output_type": "display_data"
    },
    {
     "data": {
      "application/vnd.jupyter.widget-view+json": {
       "model_id": "156c3ce2dac64611bb24865eb448a39d",
       "version_major": 2,
       "version_minor": 0
      },
      "text/plain": [
       "  0%|          | 0/21000 [00:00<?, ?it/s]"
      ]
     },
     "metadata": {},
     "output_type": "display_data"
    }
   ],
   "source": [
    "# pack_name = 'sofa_v1'\n",
    "\n",
    "pack_names = ['sofa_v1','sofa_v2','sofa_v3','sofa_v4']\n",
    "for pack_name in pack_names:\n",
    "    path = 'archive/sofa/'\n",
    "    obj_path = path + pack_name + '/labels/images/'\n",
    "\n",
    "    boxes = [get_box(file, obj_path) for file in tqdm(os.listdir(obj_path))]\n",
    "\n",
    "    cols = ['name','xmin','xmax','ymin','ymax','width','height']\n",
    "    boxes_pd = pd.DataFrame(boxes, columns=cols)\n",
    "    boxes_pd.to_csv(path + pack_name + '/' + pack_name+'_bboxes.csv')"
   ]
  },
  {
   "cell_type": "code",
   "execution_count": null,
   "metadata": {},
   "outputs": [],
   "source": []
  },
  {
   "cell_type": "code",
   "execution_count": null,
   "metadata": {},
   "outputs": [],
   "source": []
  }
 ],
 "metadata": {
  "kernelspec": {
   "display_name": "Python 3",
   "language": "python",
   "name": "python3"
  },
  "language_info": {
   "codemirror_mode": {
    "name": "ipython",
    "version": 3
   },
   "file_extension": ".py",
   "mimetype": "text/x-python",
   "name": "python",
   "nbconvert_exporter": "python",
   "pygments_lexer": "ipython3",
   "version": "3.7.9"
  },
  "varInspector": {
   "cols": {
    "lenName": 16,
    "lenType": 16,
    "lenVar": 40
   },
   "kernels_config": {
    "python": {
     "delete_cmd_postfix": "",
     "delete_cmd_prefix": "del ",
     "library": "var_list.py",
     "varRefreshCmd": "print(var_dic_list())"
    },
    "r": {
     "delete_cmd_postfix": ") ",
     "delete_cmd_prefix": "rm(",
     "library": "var_list.r",
     "varRefreshCmd": "cat(var_dic_list()) "
    }
   },
   "types_to_exclude": [
    "module",
    "function",
    "builtin_function_or_method",
    "instance",
    "_Feature"
   ],
   "window_display": false
  }
 },
 "nbformat": 4,
 "nbformat_minor": 4
}
